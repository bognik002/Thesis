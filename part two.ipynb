{
 "cells": [
  {
   "cell_type": "code",
   "execution_count": 1,
   "metadata": {},
   "outputs": [],
   "source": [
    "from AgentBasedModel import *\n",
    "from AgentBasedModel.science import *\n",
    "import AgentBasedModel.utils.math as math\n",
    "\n",
    "import random\n",
    "from tqdm import tqdm\n",
    "import pandas as pd\n",
    "import seaborn as sns\n",
    "import matplotlib.pyplot as plt"
   ]
  },
  {
   "cell_type": "markdown",
   "metadata": {},
   "source": [
    "### Random"
   ]
  },
  {
   "cell_type": "code",
   "execution_count": 30,
   "metadata": {},
   "outputs": [
    {
     "name": "stderr",
     "output_type": "stream",
     "text": [
      "100%|████████████████████████████████████████████████████████████████████████████████| 500/500 [06:48<00:00,  1.22it/s]\n"
     ]
    }
   ],
   "source": [
    "matrix1 = TransitionMatrix()\n",
    "for _ in tqdm(range(500)):\n",
    "    exchange = ExchangeAgent(volume=1000)\n",
    "    simulator = Simulator(**{\n",
    "        'exchange': exchange,\n",
    "        'traders': [Random(exchange, 10**3) for _ in range(20)]\n",
    "    })\n",
    "    info = simulator.info\n",
    "    simulator.simulate(1000, silent=True)\n",
    "    \n",
    "    params = {\n",
    "        'size': 10,\n",
    "        'window': 5,\n",
    "        'access': 1\n",
    "    }\n",
    "    matrix1.update(general_states(info, **params))"
   ]
  },
  {
   "cell_type": "code",
   "execution_count": 31,
   "metadata": {},
   "outputs": [
    {
     "data": {
      "image/png": "[encoded data removed]",
      "text/plain": [
       "<Figure size 432x432 with 1 Axes>"
      ]
     },
     "metadata": {
      "needs_background": "light"
     },
     "output_type": "display_data"
    }
   ],
   "source": [
    "heatmap_transition(matrix1)"
   ]
  },
  {
   "cell_type": "code",
   "execution_count": 32,
   "metadata": {},
   "outputs": [
    {
     "data": {
      "image/png": "[encoded data removed]",
      "text/plain": [
       "<Figure size 432x432 with 1 Axes>"
      ]
     },
     "metadata": {
      "needs_background": "light"
     },
     "output_type": "display_data"
    }
   ],
   "source": [
    "bar_transition(matrix1)"
   ]
  },
  {
   "cell_type": "code",
   "execution_count": 33,
   "metadata": {},
   "outputs": [
    {
     "data": {
      "text/html": [
       "<div>\n",
       "<style scoped>\n",
       "    .dataframe tbody tr th:only-of-type {\n",
       "        vertical-align: middle;\n",
       "    }\n",
       "\n",
       "    .dataframe tbody tr th {\n",
       "        vertical-align: top;\n",
       "    }\n",
       "\n",
       "    .dataframe thead th {\n",
       "        text-align: right;\n",
       "    }\n",
       "</style>\n",
       "<table border=\"1\" class=\"dataframe\">\n",
       "  <thead>\n",
       "    <tr style=\"text-align: right;\">\n",
       "      <th></th>\n",
       "      <th>stationary</th>\n",
       "      <th>bullish</th>\n",
       "      <th>bearish</th>\n",
       "      <th>speculative</th>\n",
       "      <th>destructive</th>\n",
       "    </tr>\n",
       "  </thead>\n",
       "  <tbody>\n",
       "    <tr>\n",
       "      <th>stationary</th>\n",
       "      <td>550</td>\n",
       "      <td>700</td>\n",
       "      <td>683</td>\n",
       "      <td>522</td>\n",
       "      <td>328</td>\n",
       "    </tr>\n",
       "    <tr>\n",
       "      <th>bullish</th>\n",
       "      <td>710</td>\n",
       "      <td>790</td>\n",
       "      <td>1119</td>\n",
       "      <td>669</td>\n",
       "      <td>502</td>\n",
       "    </tr>\n",
       "    <tr>\n",
       "      <th>bearish</th>\n",
       "      <td>681</td>\n",
       "      <td>1131</td>\n",
       "      <td>823</td>\n",
       "      <td>700</td>\n",
       "      <td>483</td>\n",
       "    </tr>\n",
       "    <tr>\n",
       "      <th>speculative</th>\n",
       "      <td>407</td>\n",
       "      <td>579</td>\n",
       "      <td>602</td>\n",
       "      <td>27065</td>\n",
       "      <td>4079</td>\n",
       "    </tr>\n",
       "    <tr>\n",
       "      <th>destructive</th>\n",
       "      <td>348</td>\n",
       "      <td>473</td>\n",
       "      <td>495</td>\n",
       "      <td>4157</td>\n",
       "      <td>404</td>\n",
       "    </tr>\n",
       "  </tbody>\n",
       "</table>\n",
       "</div>"
      ],
      "text/plain": [
       "             stationary  bullish  bearish  speculative  destructive\n",
       "stationary          550      700      683          522          328\n",
       "bullish             710      790     1119          669          502\n",
       "bearish             681     1131      823          700          483\n",
       "speculative         407      579      602        27065         4079\n",
       "destructive         348      473      495         4157          404"
      ]
     },
     "execution_count": 33,
     "metadata": {},
     "output_type": "execute_result"
    }
   ],
   "source": [
    "labels = ['stationary', 'bullish', 'bearish', 'speculative', 'destructive']\n",
    "pd.DataFrame(matrix1.matrix, columns=labels, index=labels).round()"
   ]
  },
  {
   "cell_type": "code",
   "execution_count": 34,
   "metadata": {},
   "outputs": [
    {
     "data": {
      "text/plain": [
       "stationary     0.056796\n",
       "bullish        0.077347\n",
       "bearish        0.077918\n",
       "speculative    0.668000\n",
       "destructive    0.119939\n",
       "dtype: float64"
      ]
     },
     "execution_count": 34,
     "metadata": {},
     "output_type": "execute_result"
    }
   ],
   "source": [
    "labels = ['stationary', 'bullish', 'bearish', 'speculative', 'destructive']\n",
    "pd.DataFrame(matrix1.matrix, columns=labels, index=labels).sum(axis=1) /\\\n",
    "pd.DataFrame(matrix1.matrix, columns=labels, index=labels).sum(axis=1).sum()"
   ]
  },
  {
   "cell_type": "markdown",
   "metadata": {},
   "source": [
    "### Universalists"
   ]
  },
  {
   "cell_type": "code",
   "execution_count": 35,
   "metadata": {},
   "outputs": [
    {
     "name": "stderr",
     "output_type": "stream",
     "text": [
      "100%|████████████████████████████████████████████████████████████████████████████████| 500/500 [09:36<00:00,  1.15s/it]\n"
     ]
    }
   ],
   "source": [
    "matrix2 = TransitionMatrix()\n",
    "for _ in tqdm(range(500)):\n",
    "    exchange = ExchangeAgent(volume=1000)\n",
    "    simulator = Simulator(**{\n",
    "        'exchange': exchange,\n",
    "        'traders': [Universalist(exchange, 10**3, access=1) for _ in range(20)]\n",
    "    })\n",
    "    info = simulator.info\n",
    "    simulator.simulate(1000, silent=True)\n",
    "    \n",
    "    params = {\n",
    "        'size': 10,\n",
    "        'window': 5,\n",
    "        'access': 1\n",
    "    }\n",
    "    matrix2.update(general_states(info, **params))"
   ]
  },
  {
   "cell_type": "code",
   "execution_count": 36,
   "metadata": {},
   "outputs": [
    {
     "data": {
      "image/png": "[encoded data removed]",
      "text/plain": [
       "<Figure size 432x432 with 1 Axes>"
      ]
     },
     "metadata": {
      "needs_background": "light"
     },
     "output_type": "display_data"
    }
   ],
   "source": [
    "heatmap_transition(matrix2)"
   ]
  },
  {
   "cell_type": "code",
   "execution_count": 37,
   "metadata": {},
   "outputs": [
    {
     "data": {
      "image/png": "[encoded data removed]",
      "text/plain": [
       "<Figure size 432x432 with 1 Axes>"
      ]
     },
     "metadata": {
      "needs_background": "light"
     },
     "output_type": "display_data"
    }
   ],
   "source": [
    "bar_transition(matrix2)"
   ]
  },
  {
   "cell_type": "code",
   "execution_count": 38,
   "metadata": {},
   "outputs": [
    {
     "data": {
      "text/html": [
       "<div>\n",
       "<style scoped>\n",
       "    .dataframe tbody tr th:only-of-type {\n",
       "        vertical-align: middle;\n",
       "    }\n",
       "\n",
       "    .dataframe tbody tr th {\n",
       "        vertical-align: top;\n",
       "    }\n",
       "\n",
       "    .dataframe thead th {\n",
       "        text-align: right;\n",
       "    }\n",
       "</style>\n",
       "<table border=\"1\" class=\"dataframe\">\n",
       "  <thead>\n",
       "    <tr style=\"text-align: right;\">\n",
       "      <th></th>\n",
       "      <th>stationary</th>\n",
       "      <th>bullish</th>\n",
       "      <th>bearish</th>\n",
       "      <th>speculative</th>\n",
       "      <th>destructive</th>\n",
       "    </tr>\n",
       "  </thead>\n",
       "  <tbody>\n",
       "    <tr>\n",
       "      <th>stationary</th>\n",
       "      <td>2457</td>\n",
       "      <td>3506</td>\n",
       "      <td>3635</td>\n",
       "      <td>247</td>\n",
       "      <td>970</td>\n",
       "    </tr>\n",
       "    <tr>\n",
       "      <th>bullish</th>\n",
       "      <td>3384</td>\n",
       "      <td>4594</td>\n",
       "      <td>4637</td>\n",
       "      <td>348</td>\n",
       "      <td>1813</td>\n",
       "    </tr>\n",
       "    <tr>\n",
       "      <th>bearish</th>\n",
       "      <td>3512</td>\n",
       "      <td>4595</td>\n",
       "      <td>5756</td>\n",
       "      <td>282</td>\n",
       "      <td>1818</td>\n",
       "    </tr>\n",
       "    <tr>\n",
       "      <th>speculative</th>\n",
       "      <td>205</td>\n",
       "      <td>442</td>\n",
       "      <td>302</td>\n",
       "      <td>950</td>\n",
       "      <td>262</td>\n",
       "    </tr>\n",
       "    <tr>\n",
       "      <th>destructive</th>\n",
       "      <td>1301</td>\n",
       "      <td>1676</td>\n",
       "      <td>1640</td>\n",
       "      <td>353</td>\n",
       "      <td>315</td>\n",
       "    </tr>\n",
       "  </tbody>\n",
       "</table>\n",
       "</div>"
      ],
      "text/plain": [
       "             stationary  bullish  bearish  speculative  destructive\n",
       "stationary         2457     3506     3635          247          970\n",
       "bullish            3384     4594     4637          348         1813\n",
       "bearish            3512     4595     5756          282         1818\n",
       "speculative         205      442      302          950          262\n",
       "destructive        1301     1676     1640          353          315"
      ]
     },
     "execution_count": 38,
     "metadata": {},
     "output_type": "execute_result"
    }
   ],
   "source": [
    "labels = ['stationary', 'bullish', 'bearish', 'speculative', 'destructive']\n",
    "pd.DataFrame(matrix2.matrix, columns=labels, index=labels).round()"
   ]
  },
  {
   "cell_type": "code",
   "execution_count": 39,
   "metadata": {},
   "outputs": [
    {
     "data": {
      "text/plain": [
       "stationary     0.220714\n",
       "bullish        0.301551\n",
       "bearish        0.325776\n",
       "speculative    0.044102\n",
       "destructive    0.107857\n",
       "dtype: float64"
      ]
     },
     "execution_count": 39,
     "metadata": {},
     "output_type": "execute_result"
    }
   ],
   "source": [
    "labels = ['stationary', 'bullish', 'bearish', 'speculative', 'destructive']\n",
    "pd.DataFrame(matrix2.matrix, columns=labels, index=labels).sum(axis=1) /\\\n",
    "pd.DataFrame(matrix2.matrix, columns=labels, index=labels).sum(axis=1).sum()"
   ]
  },
  {
   "cell_type": "markdown",
   "metadata": {},
   "source": [
    "### Universalists with MM"
   ]
  },
  {
   "cell_type": "code",
   "execution_count": 40,
   "metadata": {},
   "outputs": [
    {
     "name": "stderr",
     "output_type": "stream",
     "text": [
      "100%|████████████████████████████████████████████████████████████████████████████████| 500/500 [10:20<00:00,  1.24s/it]\n"
     ]
    }
   ],
   "source": [
    "matrix3 = TransitionMatrix()\n",
    "for _ in tqdm(range(500)):\n",
    "    exchange = ExchangeAgent(volume=1000)\n",
    "    simulator = Simulator(**{\n",
    "        'exchange': exchange,\n",
    "        'traders': [Universalist(exchange, 10**3) for _ in range(20)],\n",
    "        'events': [MarketMakerIn(0, 10**4)]\n",
    "    })\n",
    "    info = simulator.info\n",
    "    simulator.simulate(1000, silent=True)\n",
    "    \n",
    "    params = {\n",
    "        'size': 10,\n",
    "        'window': 5,\n",
    "        'access': 1\n",
    "    }\n",
    "    matrix3.update(general_states(info, **params))"
   ]
  },
  {
   "cell_type": "code",
   "execution_count": 41,
   "metadata": {},
   "outputs": [
    {
     "data": {
      "image/png": "[encoded data removed]",
      "text/plain": [
       "<Figure size 432x432 with 1 Axes>"
      ]
     },
     "metadata": {
      "needs_background": "light"
     },
     "output_type": "display_data"
    }
   ],
   "source": [
    "heatmap_transition(matrix3)"
   ]
  },
  {
   "cell_type": "code",
   "execution_count": 42,
   "metadata": {},
   "outputs": [
    {
     "data": {
      "image/png": "[encoded data removed]",
      "text/plain": [
       "<Figure size 432x432 with 1 Axes>"
      ]
     },
     "metadata": {
      "needs_background": "light"
     },
     "output_type": "display_data"
    }
   ],
   "source": [
    "bar_transition(matrix3)"
   ]
  },
  {
   "cell_type": "code",
   "execution_count": 43,
   "metadata": {},
   "outputs": [
    {
     "data": {
      "text/html": [
       "<div>\n",
       "<style scoped>\n",
       "    .dataframe tbody tr th:only-of-type {\n",
       "        vertical-align: middle;\n",
       "    }\n",
       "\n",
       "    .dataframe tbody tr th {\n",
       "        vertical-align: top;\n",
       "    }\n",
       "\n",
       "    .dataframe thead th {\n",
       "        text-align: right;\n",
       "    }\n",
       "</style>\n",
       "<table border=\"1\" class=\"dataframe\">\n",
       "  <thead>\n",
       "    <tr style=\"text-align: right;\">\n",
       "      <th></th>\n",
       "      <th>stationary</th>\n",
       "      <th>bullish</th>\n",
       "      <th>bearish</th>\n",
       "      <th>speculative</th>\n",
       "      <th>destructive</th>\n",
       "    </tr>\n",
       "  </thead>\n",
       "  <tbody>\n",
       "    <tr>\n",
       "      <th>stationary</th>\n",
       "      <td>2319</td>\n",
       "      <td>2256</td>\n",
       "      <td>2296</td>\n",
       "      <td>732</td>\n",
       "      <td>982</td>\n",
       "    </tr>\n",
       "    <tr>\n",
       "      <th>bullish</th>\n",
       "      <td>2418</td>\n",
       "      <td>4931</td>\n",
       "      <td>3165</td>\n",
       "      <td>1010</td>\n",
       "      <td>1346</td>\n",
       "    </tr>\n",
       "    <tr>\n",
       "      <th>bearish</th>\n",
       "      <td>2478</td>\n",
       "      <td>3129</td>\n",
       "      <td>4587</td>\n",
       "      <td>899</td>\n",
       "      <td>1355</td>\n",
       "    </tr>\n",
       "    <tr>\n",
       "      <th>speculative</th>\n",
       "      <td>398</td>\n",
       "      <td>1147</td>\n",
       "      <td>1066</td>\n",
       "      <td>5745</td>\n",
       "      <td>1337</td>\n",
       "    </tr>\n",
       "    <tr>\n",
       "      <th>destructive</th>\n",
       "      <td>766</td>\n",
       "      <td>1475</td>\n",
       "      <td>1356</td>\n",
       "      <td>1395</td>\n",
       "      <td>412</td>\n",
       "    </tr>\n",
       "  </tbody>\n",
       "</table>\n",
       "</div>"
      ],
      "text/plain": [
       "             stationary  bullish  bearish  speculative  destructive\n",
       "stationary         2319     2256     2296          732          982\n",
       "bullish            2418     4931     3165         1010         1346\n",
       "bearish            2478     3129     4587          899         1355\n",
       "speculative         398     1147     1066         5745         1337\n",
       "destructive         766     1475     1356         1395          412"
      ]
     },
     "execution_count": 43,
     "metadata": {},
     "output_type": "execute_result"
    }
   ],
   "source": [
    "labels = ['stationary', 'bullish', 'bearish', 'speculative', 'destructive']\n",
    "pd.DataFrame(matrix3.matrix, columns=labels, index=labels).round()"
   ]
  },
  {
   "cell_type": "code",
   "execution_count": 44,
   "metadata": {},
   "outputs": [
    {
     "data": {
      "text/plain": [
       "stationary     0.175204\n",
       "bullish        0.262653\n",
       "bearish        0.254041\n",
       "speculative    0.197816\n",
       "destructive    0.110286\n",
       "dtype: float64"
      ]
     },
     "execution_count": 44,
     "metadata": {},
     "output_type": "execute_result"
    }
   ],
   "source": [
    "labels = ['stationary', 'bullish', 'bearish', 'speculative', 'destructive']\n",
    "pd.DataFrame(matrix3.matrix, columns=labels, index=labels).sum(axis=1) /\\\n",
    "pd.DataFrame(matrix3.matrix, columns=labels, index=labels).sum(axis=1).sum()"
   ]
  },
  {
   "cell_type": "code",
   "execution_count": null,
   "metadata": {},
   "outputs": [],
   "source": []
  }
 ],
 "metadata": {
  "kernelspec": {
   "display_name": "Python 3",
   "language": "python",
   "name": "python3"
  },
  "language_info": {
   "codemirror_mode": {
    "name": "ipython",
    "version": 3
   },
   "file_extension": ".py",
   "mimetype": "text/x-python",
   "name": "python",
   "nbconvert_exporter": "python",
   "pygments_lexer": "ipython3",
   "version": "3.8.5"
  }
 },
 "nbformat": 4,
 "nbformat_minor": 4
}
